{
 "cells": [
  {
   "cell_type": "code",
   "execution_count": 4,
   "id": "5663968e-4c9a-4b06-96b7-2bae43dfc82e",
   "metadata": {},
   "outputs": [
    {
     "data": {
      "text/plain": [
       "'yeah i am just trying to push this to github\\nno code yet'"
      ]
     },
     "execution_count": 4,
     "metadata": {},
     "output_type": "execute_result"
    }
   ],
   "source": [
    "'''yeah i am just trying to push this to github. no code yet'''"
   ]
  },
  {
   "cell_type": "code",
   "execution_count": null,
   "id": "f7bb66b5-fbf9-481b-b3b2-45aff6f6b1e7",
   "metadata": {},
   "outputs": [],
   "source": []
  }
 ],
 "metadata": {
  "kernelspec": {
   "display_name": "Python 3 (ipykernel)",
   "language": "python",
   "name": "python3"
  },
  "language_info": {
   "codemirror_mode": {
    "name": "ipython",
    "version": 3
   },
   "file_extension": ".py",
   "mimetype": "text/x-python",
   "name": "python",
   "nbconvert_exporter": "python",
   "pygments_lexer": "ipython3",
   "version": "3.12.1"
  }
 },
 "nbformat": 4,
 "nbformat_minor": 5
}
