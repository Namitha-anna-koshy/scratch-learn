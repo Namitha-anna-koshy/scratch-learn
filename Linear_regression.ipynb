
def say_hi():
    print("Hey GitHub, I'm coding from Colab!")

say_hi()
